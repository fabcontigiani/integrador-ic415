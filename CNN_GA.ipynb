{
  "cells": [
    {
      "cell_type": "markdown",
      "source": [
        "# Librerias"
      ],
      "metadata": {
        "id": "DtgJROyn3RYE"
      }
    },
    {
      "cell_type": "markdown",
      "source": [
        "Para el preprocesado de datos"
      ],
      "metadata": {
        "id": "87BmJWWD7lHj"
      }
    },
    {
      "cell_type": "code",
      "execution_count": null,
      "metadata": {
        "id": "k4iwlffLitt9"
      },
      "outputs": [],
      "source": [
        "import numpy as np\n",
        "from sklearn.utils import shuffle\n",
        "from sklearn.model_selection import train_test_split\n",
        "from sklearn.metrics import classification_report\n",
        "from PIL import Image, ImageEnhance"
      ]
    },
    {
      "cell_type": "markdown",
      "source": [
        "ML Models"
      ],
      "metadata": {
        "id": "8GbNhgJ73f5b"
      }
    },
    {
      "cell_type": "code",
      "source": [
        "import tensorflow\n",
        "from tensorflow import keras\n",
        "from tensorflow.keras.layers import *\n",
        "from tensorflow.keras.losses import *\n",
        "from tensorflow.keras.models import *\n",
        "from tensorflow.keras.metrics import *\n",
        "from tensorflow.keras.optimizers import *\n",
        "from tensorflow.keras.applications import *\n",
        "from tensorflow.keras.preprocessing.image import load_img"
      ],
      "metadata": {
        "id": "YMKhc-tl3gEE"
      },
      "execution_count": 34,
      "outputs": []
    },
    {
      "cell_type": "markdown",
      "source": [
        "Data Visualization"
      ],
      "metadata": {
        "id": "yPF6G5wd3oCK"
      }
    },
    {
      "cell_type": "code",
      "source": [
        "import matplotlib.pyplot as plt\n",
        "import seaborn as sns"
      ],
      "metadata": {
        "id": "9K14xNeJ3p3b"
      },
      "execution_count": null,
      "outputs": []
    },
    {
      "cell_type": "markdown",
      "source": [
        "Miscellaneous"
      ],
      "metadata": {
        "id": "2RH63_hi3uVl"
      }
    },
    {
      "cell_type": "code",
      "source": [
        "from tqdm import tqdm\n",
        "import os\n",
        "import random"
      ],
      "metadata": {
        "id": "ge2UJoId3udS"
      },
      "execution_count": null,
      "outputs": []
    },
    {
      "cell_type": "markdown",
      "source": [
        "ALgoritmo genetica"
      ],
      "metadata": {
        "id": "0ufxteyV7oa1"
      }
    },
    {
      "cell_type": "code",
      "source": [
        "!pip install pygad"
      ],
      "metadata": {
        "colab": {
          "base_uri": "https://localhost:8080/"
        },
        "id": "0d0yF3Z433y2",
        "outputId": "71ae4b5e-7ffb-4b9e-9ff2-3bd23f43c5ff"
      },
      "execution_count": null,
      "outputs": [
        {
          "output_type": "stream",
          "name": "stdout",
          "text": [
            "Looking in indexes: https://pypi.org/simple, https://us-python.pkg.dev/colab-wheels/public/simple/\n",
            "Requirement already satisfied: pygad in /usr/local/lib/python3.7/dist-packages (2.16.3)\n",
            "Requirement already satisfied: matplotlib in /usr/local/lib/python3.7/dist-packages (from pygad) (3.2.2)\n",
            "Requirement already satisfied: numpy in /usr/local/lib/python3.7/dist-packages (from pygad) (1.21.6)\n",
            "Requirement already satisfied: kiwisolver>=1.0.1 in /usr/local/lib/python3.7/dist-packages (from matplotlib->pygad) (1.4.3)\n",
            "Requirement already satisfied: pyparsing!=2.0.4,!=2.1.2,!=2.1.6,>=2.0.1 in /usr/local/lib/python3.7/dist-packages (from matplotlib->pygad) (3.0.9)\n",
            "Requirement already satisfied: cycler>=0.10 in /usr/local/lib/python3.7/dist-packages (from matplotlib->pygad) (0.11.0)\n",
            "Requirement already satisfied: python-dateutil>=2.1 in /usr/local/lib/python3.7/dist-packages (from matplotlib->pygad) (2.8.2)\n",
            "Requirement already satisfied: typing-extensions in /usr/local/lib/python3.7/dist-packages (from kiwisolver>=1.0.1->matplotlib->pygad) (4.1.1)\n",
            "Requirement already satisfied: six>=1.5 in /usr/local/lib/python3.7/dist-packages (from python-dateutil>=2.1->matplotlib->pygad) (1.15.0)\n"
          ]
        }
      ]
    },
    {
      "cell_type": "code",
      "source": [
        "from pygad import kerasga\n",
        "import pygad"
      ],
      "metadata": {
        "id": "Fm3avkjP3Iva"
      },
      "execution_count": 38,
      "outputs": []
    },
    {
      "cell_type": "markdown",
      "source": [
        "# Datasat"
      ],
      "metadata": {
        "id": "_zDBOwFI373v"
      }
    },
    {
      "cell_type": "markdown",
      "source": [
        "Montamos el drvie donde tenemos el dataset"
      ],
      "metadata": {
        "id": "12LVFGee7PAv"
      }
    },
    {
      "cell_type": "code",
      "execution_count": null,
      "metadata": {
        "colab": {
          "base_uri": "https://localhost:8080/"
        },
        "id": "32XyWFDyiv5g",
        "outputId": "d04274d2-f1fa-48c5-a11d-8bcb8d23e446"
      },
      "outputs": [
        {
          "output_type": "stream",
          "name": "stdout",
          "text": [
            "Mounted at /content/drive\n"
          ]
        }
      ],
      "source": [
        "from google.colab import drive\n",
        "drive.mount('/content/drive')"
      ]
    },
    {
      "cell_type": "markdown",
      "source": [
        "Importamos el dataset desde Google Drive"
      ],
      "metadata": {
        "id": "AMFLpIxg7MYy"
      }
    },
    {
      "cell_type": "code",
      "execution_count": null,
      "metadata": {
        "id": "oHc_Uz9SituC"
      },
      "outputs": [],
      "source": [
        "train_dir = r'drive/MyDrive/Colab Notebooks/Integrador/dataset/Training'\n",
        "test_dir = r'drive/MyDrive/Colab Notebooks/Integrador/dataset/Testing'\n",
        "\n",
        "train_paths = []\n",
        "train_labels = []\n",
        "\n",
        "for label in os.listdir(train_dir):\n",
        "    for image in os.listdir(os.path.join(train_dir, label)):\n",
        "        train_paths.append(os.path.join(train_dir, label, image))\n",
        "        train_labels.append(label)\n",
        "\n",
        "train_paths, train_labels = shuffle(train_paths, train_labels)"
      ]
    },
    {
      "cell_type": "markdown",
      "source": [
        "Visualizacion de la distribucion de las clases"
      ],
      "metadata": {
        "id": "xoU_lOKn7Zzv"
      }
    },
    {
      "cell_type": "code",
      "execution_count": null,
      "metadata": {
        "id": "ZesGh7xcituD"
      },
      "outputs": [],
      "source": [
        "plt.figure(figsize=(14,6))\n",
        "colors = ['#4285f4', '#ea4335', '#fbbc05', '#34a853']\n",
        "plt.rcParams.update({'font.size': 14})\n",
        "plt.pie([len([x for x in train_labels if x=='pituitary']),\n",
        "         len([x for x in train_labels if x=='notumor']),\n",
        "         len([x for x in train_labels if x=='meningioma']),\n",
        "         len([x for x in train_labels if x=='glioma'])],\n",
        "        labels=['pituitary','notumor', 'meningioma', 'glioma'],\n",
        "        colors=colors, autopct='%.1f%%', explode=(0.025,0.025,0.025,0.025),\n",
        "        startangle=30);"
      ]
    },
    {
      "cell_type": "markdown",
      "source": [
        "Importamos el dataset de testeo"
      ],
      "metadata": {
        "id": "z4wqtzXO8FwN"
      }
    },
    {
      "cell_type": "code",
      "execution_count": null,
      "metadata": {
        "id": "B6gYaAqrituE"
      },
      "outputs": [],
      "source": [
        "test_paths = []\n",
        "test_labels = []\n",
        "\n",
        "for label in os.listdir(test_dir):\n",
        "    for image in os.listdir(os.path.join(test_dir, label)):\n",
        "        test_paths.append(os.path.join(test_dir, label, image))\n",
        "        test_labels.append(label)\n",
        "\n",
        "test_paths, test_labels = shuffle(test_paths, test_labels)"
      ]
    },
    {
      "cell_type": "markdown",
      "source": [
        "Visualizacion"
      ],
      "metadata": {
        "id": "Uos1ScHr8Qw0"
      }
    },
    {
      "cell_type": "code",
      "execution_count": null,
      "metadata": {
        "id": "0r1v0pTWituF"
      },
      "outputs": [],
      "source": [
        "plt.figure(figsize=(14,6))\n",
        "colors = ['#4285f4', '#ea4335', '#fbbc05', '#34a853']\n",
        "plt.rcParams.update({'font.size': 14})\n",
        "plt.pie([len(train_labels), len(test_labels)],\n",
        "        labels=['Entrenamiento','Testeo'],\n",
        "        colors=colors, autopct='%.1f%%', explode=(0.05,0),\n",
        "        startangle=30);"
      ]
    },
    {
      "cell_type": "markdown",
      "source": [
        "Aumento de datos"
      ],
      "metadata": {
        "id": "o2W-hLDW8X6_"
      }
    },
    {
      "cell_type": "code",
      "execution_count": null,
      "metadata": {
        "id": "TVg9fPkdituG"
      },
      "outputs": [],
      "source": [
        "def augment_image(image):\n",
        "    image = Image.fromarray(np.uint8(image))\n",
        "    image = ImageEnhance.Brightness(image).enhance(random.uniform(0.8,1.2))\n",
        "    image = ImageEnhance.Contrast(image).enhance(random.uniform(0.8,1.2))\n",
        "    image = np.array(image)/255.0\n",
        "    return image"
      ]
    },
    {
      "cell_type": "markdown",
      "source": [
        "Reshape"
      ],
      "metadata": {
        "id": "oj6nBDZJ910K"
      }
    },
    {
      "cell_type": "code",
      "execution_count": null,
      "metadata": {
        "id": "70PiNWHwituG"
      },
      "outputs": [],
      "source": [
        "IMAGE_SIZE = 128\n",
        "\n",
        "def open_images(paths):\n",
        "    '''\n",
        "    Dada una lista de los path de las imagenes, retorna las imagenes como un array (after augmenting them)\n",
        "    '''\n",
        "    images = []\n",
        "    for path in paths:\n",
        "        image = load_img(path, target_size=(IMAGE_SIZE,IMAGE_SIZE))\n",
        "        image = augment_image(image)\n",
        "        images.append(image)\n",
        "    return np.array(images)"
      ]
    },
    {
      "cell_type": "markdown",
      "source": [
        "Visualizacionde ejemplos"
      ],
      "metadata": {
        "id": "pTSu_KiJ97U_"
      }
    },
    {
      "cell_type": "code",
      "source": [
        "images = open_images(train_paths[50:59])\n",
        "labels = train_labels[50:59]\n",
        "fig = plt.figure(figsize=(12, 6))\n",
        "for x in range(1, 9):\n",
        "    fig.add_subplot(2, 4, x)\n",
        "    plt.axis('off')\n",
        "    plt.title(labels[x])\n",
        "    plt.imshow(images[x])\n",
        "plt.rcParams.update({'font.size': 12})\n",
        "plt.show()"
      ],
      "metadata": {
        "id": "q1NEEGv49tRL"
      },
      "execution_count": null,
      "outputs": []
    },
    {
      "cell_type": "markdown",
      "source": [
        "Label encoding"
      ],
      "metadata": {
        "id": "oB22fyuL-CGS"
      }
    },
    {
      "cell_type": "code",
      "execution_count": null,
      "metadata": {
        "id": "F0NC4SE6ituI"
      },
      "outputs": [],
      "source": [
        "unique_labels = os.listdir(train_dir)\n",
        "\n",
        "def encode_label(labels):\n",
        "    encoded = []\n",
        "    for x in labels:\n",
        "        encoded.append(unique_labels.index(x))\n",
        "    return np.array(encoded)\n",
        "\n",
        "def decode_label(labels):\n",
        "    decoded = []\n",
        "    for x in labels:\n",
        "        decoded.append(unique_labels[x])\n",
        "    return np.array(decoded)\n",
        "\n",
        "def datagen(paths, labels, batch_size=12, epochs=1):\n",
        "    for _ in range(epochs):\n",
        "        for x in range(0, len(paths), batch_size):\n",
        "            batch_paths = paths[x:x+batch_size]\n",
        "            batch_images = open_images(batch_paths)\n",
        "            batch_labels = labels[x:x+batch_size]\n",
        "            batch_labels = encode_label(batch_labels)\n",
        "            yield batch_images, batch_labels"
      ]
    },
    {
      "cell_type": "code",
      "execution_count": null,
      "metadata": {
        "id": "n9CFTq9tituJ"
      },
      "outputs": [],
      "source": [
        "from sklearn.preprocessing import LabelEncoder\n",
        "#\n",
        "# Instantiate LabelEncoder\n",
        "#\n",
        "le = LabelEncoder()\n",
        "#\n",
        "# Encode single column status\n",
        "#\n",
        "train_labels = le.fit_transform(train_labels)\n",
        "#\n",
        "# Print df.head for checking the transformation\n",
        "#\n",
        "train_labels"
      ]
    },
    {
      "cell_type": "markdown",
      "source": [
        "Ejemplo depues del encoding"
      ],
      "metadata": {
        "id": "bHSxG1-Y-VMm"
      }
    },
    {
      "cell_type": "code",
      "execution_count": null,
      "metadata": {
        "id": "kM6Hga_lituK"
      },
      "outputs": [],
      "source": [
        "data_inputs = open_images(train_paths[50:59])\n",
        "data_outputs = train_labels[50:59]\n",
        "data_outputs = tensorflow.keras.utils.to_categorical(data_outputs)\n",
        "\n",
        "fig = plt.figure(figsize=(12, 6))\n",
        "for x in range(1, 9):\n",
        "    fig.add_subplot(2, 4, x)\n",
        "    plt.axis('off')\n",
        "    plt.title(data_outputs[x])\n",
        "    plt.imshow(data_inputs[x])\n",
        "plt.rcParams.update({'font.size': 12})\n",
        "plt.show()"
      ]
    },
    {
      "cell_type": "code",
      "source": [
        "data_inputs = open_images(train_paths[:10])\n",
        "data_inputs.shape"
      ],
      "metadata": {
        "id": "kxTTyB8hQiS_"
      },
      "execution_count": null,
      "outputs": []
    },
    {
      "cell_type": "markdown",
      "source": [
        "# Algoritmo genetico"
      ],
      "metadata": {
        "id": "MbnqvewD_jnx"
      }
    },
    {
      "cell_type": "markdown",
      "source": [
        "Fitness"
      ],
      "metadata": {
        "id": "OVkkkpT8_vCf"
      }
    },
    {
      "cell_type": "code",
      "source": [
        "def fitness_func(solution, sol_idx):\n",
        "    global data_inputs, data_outputs, keras_ga, model\n",
        "\n",
        "    predictions = pygad.kerasga.predict(model=model,\n",
        "                                        solution=solution,\n",
        "                                        data=data_inputs)\n",
        "\n",
        "    cce = tensorflow.keras.losses.CategoricalCrossentropy()\n",
        "    solution_fitness = 1.0 / (cce(data_outputs, predictions).numpy() + 0.000001)\n",
        "   \n",
        "\n",
        "\n",
        "    return solution_fitness"
      ],
      "metadata": {
        "id": "u8m6n_xz_r5_"
      },
      "execution_count": null,
      "outputs": []
    },
    {
      "cell_type": "markdown",
      "source": [
        "Callback"
      ],
      "metadata": {
        "id": "4ul5zVwq_0i_"
      }
    },
    {
      "cell_type": "code",
      "source": [
        "def callback_generation(ga_instance):\n",
        "    print(\"Generation = {generation}\".format(generation=ga_instance.generations_completed))\n",
        "    print(\"Fitness    = {fitness}\".format(fitness=ga_instance.best_solution()[1]))"
      ],
      "metadata": {
        "id": "NMbUdVjY_xvY"
      },
      "execution_count": null,
      "outputs": []
    },
    {
      "cell_type": "markdown",
      "source": [
        "Modelo de la red"
      ],
      "metadata": {
        "id": "U9HgPZl-_4vw"
      }
    },
    {
      "cell_type": "code",
      "source": [
        "#Build the keras model using the functional API.\n",
        "input_layer = tensorflow.keras.layers.Input(shape=(128, 128, 3))\n",
        "conv_layer1 = tensorflow.keras.layers.Conv2D(filters=5, kernel_size=7, activation=\"relu\")(input_layer)\n",
        "max_pool1 = tensorflow.keras.layers.MaxPooling2D(pool_size=(5,5), strides=5)(conv_layer1)\n",
        "conv_layer2 = tensorflow.keras.layers.Conv2D(filters=3, kernel_size=3, activation=\"relu\")(max_pool1)\n",
        "flatten_layer  = tensorflow.keras.layers.Flatten()(conv_layer2)\n",
        "dense_layer = tensorflow.keras.layers.Dense(15, activation=\"relu\")(flatten_layer)\n",
        "output_layer = tensorflow.keras.layers.Dense(4, activation=\"softmax\")(dense_layer)\n",
        "\n",
        "model = tensorflow.keras.Model(inputs=input_layer, outputs=output_layer)"
      ],
      "metadata": {
        "id": "B8L6Cwv1_6kw"
      },
      "execution_count": 46,
      "outputs": []
    },
    {
      "cell_type": "markdown",
      "source": [
        "Info de modelo"
      ],
      "metadata": {
        "id": "genMzW6z_-A1"
      }
    },
    {
      "cell_type": "code",
      "source": [
        "model.summary()"
      ],
      "metadata": {
        "id": "87QwXmsIAAbQ",
        "colab": {
          "base_uri": "https://localhost:8080/"
        },
        "outputId": "75ddd766-2c86-4c47-f1df-9ad5c9f169d9"
      },
      "execution_count": 47,
      "outputs": [
        {
          "output_type": "stream",
          "name": "stdout",
          "text": [
            "Model: \"model_5\"\n",
            "_________________________________________________________________\n",
            " Layer (type)                Output Shape              Param #   \n",
            "=================================================================\n",
            " input_6 (InputLayer)        [(None, 128, 128, 3)]     0         \n",
            "                                                                 \n",
            " conv2d_10 (Conv2D)          (None, 122, 122, 5)       740       \n",
            "                                                                 \n",
            " max_pooling2d_5 (MaxPooling  (None, 24, 24, 5)        0         \n",
            " 2D)                                                             \n",
            "                                                                 \n",
            " conv2d_11 (Conv2D)          (None, 22, 22, 3)         138       \n",
            "                                                                 \n",
            " flatten_5 (Flatten)         (None, 1452)              0         \n",
            "                                                                 \n",
            " dense_10 (Dense)            (None, 15)                21795     \n",
            "                                                                 \n",
            " dense_11 (Dense)            (None, 4)                 64        \n",
            "                                                                 \n",
            "=================================================================\n",
            "Total params: 22,737\n",
            "Trainable params: 22,737\n",
            "Non-trainable params: 0\n",
            "_________________________________________________________________\n"
          ]
        }
      ]
    },
    {
      "cell_type": "code",
      "source": [
        "keras.utils.plot_model(model, show_shapes=True)"
      ],
      "metadata": {
        "id": "cWV9o2lSAXSw",
        "outputId": "1c2dfb80-901f-43ec-f19a-391662073347",
        "colab": {
          "base_uri": "https://localhost:8080/",
          "height": 754
        }
      },
      "execution_count": 48,
      "outputs": [
        {
          "output_type": "execute_result",
          "data": {
            "text/plain": [
              "<IPython.core.display.Image object>"
            ],
            "image/png": "[encoded data removed]"
          },
          "metadata": {},
          "execution_count": 48
        }
      ]
    },
    {
      "cell_type": "markdown",
      "source": [
        "KerasGA # Create an instance of the pygad.kerasga.KerasGA class to build the initial population."
      ],
      "metadata": {
        "id": "7H_ICCnIBEEW"
      }
    },
    {
      "cell_type": "code",
      "source": [
        "keras_ga = kerasga.KerasGA(model=model,\n",
        "                                 num_solutions=10)"
      ],
      "metadata": {
        "id": "LFN3wNADBH8n"
      },
      "execution_count": null,
      "outputs": []
    },
    {
      "cell_type": "markdown",
      "source": [
        "Entrada de datos"
      ],
      "metadata": {
        "id": "7fYLUfEQBQE3"
      }
    },
    {
      "cell_type": "code",
      "source": [
        "data_inputs = open_images(train_paths[:1000])\n",
        "data_outputs = train_labels[:1000]\n",
        "\n"
      ],
      "metadata": {
        "id": "Q-H8sf3JBUaL"
      },
      "execution_count": null,
      "outputs": []
    },
    {
      "cell_type": "code",
      "source": [
        "data_outputs = tensorflow.keras.utils.to_categorical(data_outputs)"
      ],
      "metadata": {
        "id": "TVLRSY2dJWyE"
      },
      "execution_count": null,
      "outputs": []
    },
    {
      "cell_type": "markdown",
      "source": [
        "Parametros de PyGAD"
      ],
      "metadata": {
        "id": "JD2YUyHXBZ0B"
      }
    },
    {
      "cell_type": "code",
      "source": [
        "num_generations = 500 # NUmero de generaciones\n",
        "num_parents_mating = 4 # Number of solutions to be selected as parents in the mating pool.\n",
        "initial_population = keras_ga.population_weights # Initial population of network weights."
      ],
      "metadata": {
        "id": "RKYvEjI1BfkT"
      },
      "execution_count": null,
      "outputs": []
    },
    {
      "cell_type": "code",
      "source": [
        "def mutation_func(offspring, ga_instance):\n",
        "\n",
        "    for chromosome_idx in range(offspring.shape[0]):\n",
        "        random_gene_idx = numpy.random.choice(range(offspring.shape[1]))\n",
        "\n",
        "        offspring[chromosome_idx, random_gene_idx] += numpy.random.random()\n",
        "\n",
        "    return offspring"
      ],
      "metadata": {
        "id": "q9jzSh4VwN3D"
      },
      "execution_count": null,
      "outputs": []
    },
    {
      "cell_type": "code",
      "source": [
        "def crossover_func(parents, offspring_size, ga_instance):\n",
        "    offspring = []\n",
        "    idx = 0\n",
        "    while len(offspring) != offspring_size[0]:\n",
        "        parent1 = parents[idx % parents.shape[0], :].copy()\n",
        "        parent2 = parents[(idx + 1) % parents.shape[0], :].copy()\n",
        "\n",
        "        random_split_point = numpy.random.choice(range(offspring_size[1]))\n",
        "\n",
        "        parent1[random_split_point:] = parent2[random_split_point:]\n",
        "\n",
        "        offspring.append(parent1)\n",
        "\n",
        "        idx += 1\n",
        "\n",
        "    return numpy.array(offspring)"
      ],
      "metadata": {
        "id": "4V_f42U17eoV"
      },
      "execution_count": null,
      "outputs": []
    },
    {
      "cell_type": "code",
      "source": [
        "def mutation_func(offspring, ga_instance):\n",
        "\n",
        "    for chromosome_idx in range(offspring.shape[0]):\n",
        "        random_gene_idx = numpy.random.choice(range(offspring.shape[1]))\n",
        "\n",
        "        offspring[chromosome_idx, random_gene_idx] += numpy.random.random()\n",
        "\n",
        "    return offspring"
      ],
      "metadata": {
        "id": "fajTGESC7j5r"
      },
      "execution_count": null,
      "outputs": []
    },
    {
      "cell_type": "code",
      "source": [
        "def parent_selection_func(fitness, num_parents, ga_instance):\n",
        "\n",
        "    fitness_sorted = sorted(range(len(fitness)), key=lambda k: fitness[k])\n",
        "    fitness_sorted.reverse()\n",
        "\n",
        "    parents = numpy.empty((num_parents, ga_instance.population.shape[1]))\n",
        "\n",
        "    for parent_num in range(num_parents):\n",
        "        parents[parent_num, :] = ga_instance.population[fitness_sorted[parent_num], :].copy()\n",
        "\n",
        "    return parents, fitness_sorted[:num_parents]"
      ],
      "metadata": {
        "id": "rVm-pAdi744x"
      },
      "execution_count": null,
      "outputs": []
    },
    {
      "cell_type": "markdown",
      "source": [
        "*# Create an instance of the pygad.GA class"
      ],
      "metadata": {
        "id": "afwUgGtjBm2j"
      }
    },
    {
      "cell_type": "code",
      "source": [
        "ga_instance = pygad.GA(num_generations=num_generations,\n",
        "                       num_parents_mating=num_parents_mating,\n",
        "                       initial_population=initial_population,\n",
        "                       fitness_func=fitness_func,\n",
        "                       crossover_type=crossover_func,\n",
        "                       mutation_type=mutation_func,\n",
        "                       parent_selection_type=parent_selection_func)"
      ],
      "metadata": {
        "id": "uFzli8qdBoxR"
      },
      "execution_count": null,
      "outputs": []
    },
    {
      "cell_type": "markdown",
      "source": [
        "Comienzo del algoritmo de evolucion genetica"
      ],
      "metadata": {
        "id": "XddbDpHoB0Xv"
      }
    },
    {
      "cell_type": "code",
      "source": [
        "import numpy"
      ],
      "metadata": {
        "id": "q3RT3T3ezsz8"
      },
      "execution_count": null,
      "outputs": []
    },
    {
      "cell_type": "code",
      "source": [
        "ga_instance.run()"
      ],
      "metadata": {
        "id": "xkZwcSJKB46D"
      },
      "execution_count": null,
      "outputs": []
    },
    {
      "cell_type": "markdown",
      "source": [
        "Visualizacion del entrenamiento"
      ],
      "metadata": {
        "id": "hForJbXAB8QX"
      }
    },
    {
      "cell_type": "code",
      "source": [
        "ga_instance.plot_fitness(title=\"PyGAD & Keras - Iteration vs. Fitness\", linewidth=4)"
      ],
      "metadata": {
        "colab": {
          "base_uri": "https://localhost:8080/",
          "height": 589
        },
        "id": "LP7Hmv55B_He",
        "outputId": "30f195b8-0057-4ee9-f5c6-36cca224f062"
      },
      "execution_count": null,
      "outputs": [
        {
          "output_type": "display_data",
          "data": {
            "text/plain": [
              "<Figure size 432x288 with 1 Axes>"
            ],
            "image/png": "[encoded data removed]"
          },
          "metadata": {
            "needs_background": "light"
          }
        },
        {
          "output_type": "execute_result",
          "data": {
            "text/plain": [
              "<Figure size 432x288 with 1 Axes>"
            ],
            "image/png": "[encoded data removed]"
          },
          "metadata": {},
          "execution_count": 80
        }
      ]
    },
    {
      "cell_type": "markdown",
      "source": [
        "Mejor solucion"
      ],
      "metadata": {
        "id": "PUaLzFCOCA4F"
      }
    },
    {
      "cell_type": "code",
      "source": [
        "solution, solution_fitness, solution_idx = ga_instance.best_solution()\n",
        "print(\"Fitness value of the best solution = {solution_fitness}\".format(solution_fitness=solution_fitness))\n",
        "print(\"Index of the best solution : {solution_idx}\".format(solution_idx=solution_idx))"
      ],
      "metadata": {
        "colab": {
          "base_uri": "https://localhost:8080/"
        },
        "id": "rOqoa6iXCA-X",
        "outputId": "f0e4f18a-3f54-451f-f4e2-fa30ed35bc89"
      },
      "execution_count": null,
      "outputs": [
        {
          "output_type": "stream",
          "name": "stdout",
          "text": [
            "Fitness value of the best solution = 2.376464134076088\n",
            "Index of the best solution : 0\n"
          ]
        }
      ]
    },
    {
      "cell_type": "markdown",
      "source": [
        "Prediccion"
      ],
      "metadata": {
        "id": "YsfJlOGECJ-N"
      }
    },
    {
      "cell_type": "code",
      "source": [
        "predictions = pygad.kerasga.predict(model=model,\n",
        "                                    solution=solution,\n",
        "                                    data=data_inputs)\n",
        "print(\"Predictions : \\n\", predictions)"
      ],
      "metadata": {
        "colab": {
          "base_uri": "https://localhost:8080/"
        },
        "id": "s9PGVDV_CMi0",
        "outputId": "3fc35508-dbb2-4bc1-a79a-250112c7567e"
      },
      "execution_count": null,
      "outputs": [
        {
          "output_type": "stream",
          "name": "stdout",
          "text": [
            "Predictions : \n",
            " [[1.2581144e-01 8.6576623e-01 8.2939044e-03 1.2843948e-04]\n",
            " [1.7795980e-02 8.1140643e-01 3.7451416e-02 1.3334619e-01]\n",
            " [5.3423035e-01 4.6489298e-01 3.2214890e-04 5.5451045e-04]\n",
            " ...\n",
            " [6.3684696e-01 1.4481388e-01 4.1165542e-02 1.7717367e-01]\n",
            " [1.5254866e-02 3.3994041e-02 9.5047015e-01 2.8105045e-04]\n",
            " [1.7479920e-01 8.2513827e-01 2.2178850e-05 4.0413710e-05]]\n"
          ]
        }
      ]
    },
    {
      "cell_type": "markdown",
      "source": [
        "*# Calculate the categorical crossentropy for the trained model."
      ],
      "metadata": {
        "id": "X68la0QhCeay"
      }
    },
    {
      "cell_type": "code",
      "source": [
        "cce = tensorflow.keras.losses.CategoricalCrossentropy()\n",
        "print(\"Categorical Crossentropy : \", cce(data_outputs, predictions).numpy())"
      ],
      "metadata": {
        "colab": {
          "base_uri": "https://localhost:8080/"
        },
        "id": "C68QfM_9CWL-",
        "outputId": "3e591683-bdf3-421a-f6f6-5ddbca45e48c"
      },
      "execution_count": null,
      "outputs": [
        {
          "output_type": "stream",
          "name": "stdout",
          "text": [
            "Categorical Crossentropy :  0.42079222\n"
          ]
        }
      ]
    },
    {
      "cell_type": "markdown",
      "source": [
        "*# Calculate the classification accuracy for the trained model."
      ],
      "metadata": {
        "id": "0iZuAZEFCjGG"
      }
    },
    {
      "cell_type": "code",
      "execution_count": null,
      "metadata": {
        "id": "0jUfQFCpituL",
        "colab": {
          "base_uri": "https://localhost:8080/"
        },
        "outputId": "5667905f-3efc-450f-dc8d-f864e90cbc91"
      },
      "outputs": [
        {
          "output_type": "stream",
          "name": "stdout",
          "text": [
            "Accuracy :  0.86\n"
          ]
        }
      ],
      "source": [
        "ca = tensorflow.keras.metrics.CategoricalAccuracy()\n",
        "ca.update_state(data_outputs, predictions)\n",
        "accuracy = ca.result().numpy()\n",
        "print(\"Accuracy : \", accuracy)"
      ]
    }
  ],
  "metadata": {
    "accelerator": "GPU",
    "colab": {
      "name": "CNN_GA.ipynb",
      "provenance": [],
      "collapsed_sections": []
    },
    "gpuClass": "standard",
    "kernelspec": {
      "display_name": "Python 3.10.4 64-bit",
      "language": "python",
      "name": "python3"
    },
    "language_info": {
      "codemirror_mode": {
        "name": "ipython",
        "version": 3
      },
      "file_extension": ".py",
      "mimetype": "text/x-python",
      "name": "python",
      "nbconvert_exporter": "python",
      "pygments_lexer": "ipython3",
      "version": "3.10.4"
    },
    "vscode": {
      "interpreter": {
        "hash": "5e5197db5fa84d816bf155d613050a8e91463c9074e4f0338f9b9e564a5c9713"
      }
    }
  },
  "nbformat": 4,
  "nbformat_minor": 0
}