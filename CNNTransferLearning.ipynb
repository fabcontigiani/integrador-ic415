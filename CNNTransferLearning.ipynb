{
  "cells": [
    {
      "cell_type": "code",
      "execution_count": 27,
      "metadata": {
        "id": "OS5ylNzTih3J"
      },
      "outputs": [],
      "source": [
        "import numpy as np\n",
        "import tensorflow as tf\n",
        "from tensorflow import keras\n",
        "from keras import layers\n",
        "import matplotlib.pyplot as plt\n",
        "from sklearn.metrics import classification_report, confusion_matrix"
      ]
    },
    {
      "cell_type": "code",
      "execution_count": 28,
      "metadata": {
        "colab": {
          "base_uri": "https://localhost:8080/"
        },
        "id": "wqkEZ8jvmB7u",
        "outputId": "b0d2cc46-6643-4e42-c6a8-aed38c393944"
      },
      "outputs": [
        {
          "name": "stdout",
          "output_type": "stream",
          "text": [
            "Found 5712 files belonging to 4 classes.\n",
            "Using 4570 files for training.\n",
            "Found 5712 files belonging to 4 classes.\n",
            "Using 1142 files for validation.\n",
            "Found 1311 files belonging to 4 classes.\n"
          ]
        }
      ],
      "source": [
        "image_size = (128, 128)\n",
        "batch_size = 128\n",
        "\n",
        "train_ds = tf.keras.preprocessing.image_dataset_from_directory(\n",
        "    \"dataset/Training\",\n",
        "    validation_split=0.2,\n",
        "    subset=\"training\",\n",
        "    shuffle = True,\n",
        "    seed=1337,\n",
        "    image_size=image_size,\n",
        "    batch_size=batch_size,\n",
        ")\n",
        "val_ds = tf.keras.preprocessing.image_dataset_from_directory(\n",
        "    \"dataset/Training\",\n",
        "    validation_split=0.2,\n",
        "    subset=\"validation\",\n",
        "    shuffle = True,\n",
        "    seed=1337,\n",
        "    image_size=image_size,\n",
        "    batch_size=batch_size,\n",
        ")\n",
        "test_ds = tf.keras.preprocessing.image_dataset_from_directory(\n",
        "    \"dataset/Testing\",\n",
        "    image_size=image_size,\n",
        "    batch_size=batch_size,\n",
        ")"
      ]
    },
    {
      "cell_type": "code",
      "execution_count": 29,
      "metadata": {
        "id": "NQxlnkna1FXQ"
      },
      "outputs": [],
      "source": [
        "rescale = tf.keras.Sequential([\n",
        "  layers.Rescaling(1./255)\n",
        "])\n",
        "\n",
        "train_ds = train_ds.map(\n",
        "    lambda x, y: (rescale(x, training=True), y))\n",
        "val_ds = val_ds.map(\n",
        "    lambda x, y: (rescale(x, training=True), y))\n",
        "test_ds = test_ds.map(\n",
        "    lambda x, y: (rescale(x, training=True), y))"
      ]
    },
    {
      "cell_type": "code",
      "execution_count": 30,
      "metadata": {
        "colab": {
          "base_uri": "https://localhost:8080/"
        },
        "id": "P599OzbqwOvP",
        "outputId": "28c92143-2e1e-4042-df83-2f5cd59fb3b2"
      },
      "outputs": [
        {
          "name": "stdout",
          "output_type": "stream",
          "text": [
            "Model: \"sequential_9\"\n",
            "_________________________________________________________________\n",
            " Layer (type)                Output Shape              Param #   \n",
            "=================================================================\n",
            " vgg16 (Functional)          (None, 4, 4, 512)         14714688  \n",
            "                                                                 \n",
            " flatten_7 (Flatten)         (None, 8192)              0         \n",
            "                                                                 \n",
            " dropout_14 (Dropout)        (None, 8192)              0         \n",
            "                                                                 \n",
            " dense_14 (Dense)            (None, 128)               1048704   \n",
            "                                                                 \n",
            " dropout_15 (Dropout)        (None, 128)               0         \n",
            "                                                                 \n",
            " dense_15 (Dense)            (None, 4)                 516       \n",
            "                                                                 \n",
            "=================================================================\n",
            "Total params: 15,763,908\n",
            "Trainable params: 1,049,220\n",
            "Non-trainable params: 14,714,688\n",
            "_________________________________________________________________\n"
          ]
        }
      ],
      "source": [
        "base_model = keras.applications.VGG16(input_shape=(128, 128, 3), include_top=False, weights='imagenet')\n",
        "# Set all layers to non-trainable\n",
        "for layer in base_model.layers:\n",
        "    layer.trainable = False\n",
        "\n",
        "model = keras.models.Sequential()\n",
        "model.add(keras.layers.Input(shape=(128, 128, 3)))\n",
        "model.add(base_model)\n",
        "model.add(keras.layers.Flatten())\n",
        "model.add(keras.layers.Dropout(0.3))\n",
        "model.add(keras.layers.Dense(128, activation='relu'))\n",
        "model.add(keras.layers.Dropout(0.2))\n",
        "model.add(keras.layers.Dense(4, activation='softmax'))\n",
        "\n",
        "model.summary()"
      ]
    },
    {
      "cell_type": "code",
      "execution_count": 31,
      "metadata": {
        "id": "lJJXOON2x5b5"
      },
      "outputs": [],
      "source": [
        "model.compile(optimizer=keras.optimizers.Adam(),loss='sparse_categorical_crossentropy',metrics=['accuracy'])"
      ]
    },
    {
      "cell_type": "code",
      "execution_count": 32,
      "metadata": {},
      "outputs": [],
      "source": [
        "early_stopping = keras.callbacks.EarlyStopping(patience=5)"
      ]
    },
    {
      "cell_type": "code",
      "execution_count": 33,
      "metadata": {
        "colab": {
          "base_uri": "https://localhost:8080/"
        },
        "id": "Y6k8KBGExk_i",
        "outputId": "bfb04ef3-03cd-41bd-934a-2b1fd9e7f629"
      },
      "outputs": [
        {
          "name": "stdout",
          "output_type": "stream",
          "text": [
            "Epoch 1/5\n",
            "36/36 [==============================] - 399s 11s/step - loss: 0.8063 - accuracy: 0.6906 - val_loss: 0.4038 - val_accuracy: 0.8555\n",
            "Epoch 2/5\n",
            "36/36 [==============================] - 410s 11s/step - loss: 0.3800 - accuracy: 0.8534 - val_loss: 0.3363 - val_accuracy: 0.8608\n",
            "Epoch 3/5\n",
            "36/36 [==============================] - 412s 12s/step - loss: 0.3101 - accuracy: 0.8851 - val_loss: 0.2763 - val_accuracy: 0.9037\n",
            "Epoch 4/5\n",
            "36/36 [==============================] - 411s 11s/step - loss: 0.2709 - accuracy: 0.8954 - val_loss: 0.2422 - val_accuracy: 0.9177\n",
            "Epoch 5/5\n",
            "36/36 [==============================] - 435s 12s/step - loss: 0.2448 - accuracy: 0.9057 - val_loss: 0.2288 - val_accuracy: 0.9247\n"
          ]
        }
      ],
      "source": [
        "model_history = model.fit(x=train_ds, validation_data=val_ds, epochs=5, callbacks=early_stopping)"
      ]
    },
    {
      "cell_type": "code",
      "execution_count": 34,
      "metadata": {},
      "outputs": [
        {
          "data": {
            "image/png": "[encoded data removed]",
            "text/plain": [
              "<Figure size 432x288 with 1 Axes>"
            ]
          },
          "metadata": {
            "needs_background": "light"
          },
          "output_type": "display_data"
        }
      ],
      "source": [
        "history_dict = model_history.history\n",
        "loss_values = history_dict['loss']\n",
        "epochs = range(1, len(history_dict['accuracy']) + 1)\n",
        "plt.plot(epochs, loss_values, 'r', label='Training loss')\n",
        "plt.title('Training loss')\n",
        "plt.xlabel('Epochs')\n",
        "plt.ylabel('Loss')\n",
        "plt.legend()\n",
        "plt.show()"
      ]
    },
    {
      "cell_type": "code",
      "execution_count": 35,
      "metadata": {},
      "outputs": [
        {
          "data": {
            "image/png": "[encoded data removed]",
            "text/plain": [
              "<Figure size 432x288 with 1 Axes>"
            ]
          },
          "metadata": {
            "needs_background": "light"
          },
          "output_type": "display_data"
        }
      ],
      "source": [
        "plt.clf()\n",
        "acc_values = history_dict['accuracy']\n",
        "plt.plot(epochs, history_dict['accuracy'], 'r', label='Training acc')\n",
        "plt.title('Training accuracy')\n",
        "plt.xlabel('Epochs')\n",
        "plt.ylabel('Loss')\n",
        "plt.legend()\n",
        "plt.show()"
      ]
    },
    {
      "cell_type": "code",
      "execution_count": 36,
      "metadata": {},
      "outputs": [
        {
          "name": "stdout",
          "output_type": "stream",
          "text": [
            "11/11 [==============================] - 96s 9s/step - loss: 0.2850 - accuracy: 0.9001\n"
          ]
        },
        {
          "data": {
            "text/plain": [
              "[0.2849745452404022, 0.9000762701034546]"
            ]
          },
          "execution_count": 36,
          "metadata": {},
          "output_type": "execute_result"
        }
      ],
      "source": [
        "result = model.evaluate(test_ds) # Devuelve pérdida y accuracy\n",
        "result"
      ]
    }
  ],
  "metadata": {
    "colab": {
      "name": "CNNConvencional.ipynb",
      "provenance": []
    },
    "gpuClass": "standard",
    "kernelspec": {
      "display_name": "Python 3.10.4 64-bit",
      "language": "python",
      "name": "python3"
    },
    "language_info": {
      "codemirror_mode": {
        "name": "ipython",
        "version": 3
      },
      "file_extension": ".py",
      "mimetype": "text/x-python",
      "name": "python",
      "nbconvert_exporter": "python",
      "pygments_lexer": "ipython3",
      "version": "3.10.4"
    },
    "vscode": {
      "interpreter": {
        "hash": "d96862930cf1ce5d70103c474053328e4c4962576a2d2591142ed8b8dbf15326"
      }
    }
  },
  "nbformat": 4,
  "nbformat_minor": 0
}
